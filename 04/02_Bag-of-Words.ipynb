{
  "nbformat": 4,
  "nbformat_minor": 0,
  "metadata": {
    "colab": {
      "name": "04/02_Bag-of-Words",
      "provenance": [],
      "collapsed_sections": [],
      "authorship_tag": "ABX9TyOstd93PePFXZM5r/687AXk",
      "include_colab_link": true
    },
    "kernelspec": {
      "name": "python3",
      "display_name": "Python 3"
    },
    "language_info": {
      "name": "python"
    }
  },
  "cells": [
    {
      "cell_type": "markdown",
      "metadata": {
        "id": "view-in-github",
        "colab_type": "text"
      },
      "source": [
        "<a href=\"https://colab.research.google.com/github/BeLeap/tensorflow-nlp-tutorial/blob/main/04/02_Bag-of-Words.ipynb\" target=\"_parent\"><img src=\"https://colab.research.google.com/assets/colab-badge.svg\" alt=\"Open In Colab\"/></a>"
      ]
    },
    {
      "cell_type": "code",
      "execution_count": null,
      "metadata": {
        "colab": {
          "base_uri": "https://localhost:8080/"
        },
        "id": "g4DiHofd0QaB",
        "outputId": "f55070d2-4e9e-4e02-8ea1-468f39a26e67"
      },
      "outputs": [
        {
          "output_type": "stream",
          "name": "stdout",
          "text": [
            "Collecting konlpy\n",
            "  Downloading konlpy-0.6.0-py2.py3-none-any.whl (19.4 MB)\n",
            "\u001b[K     |████████████████████████████████| 19.4 MB 492 kB/s \n",
            "\u001b[?25hRequirement already satisfied: lxml>=4.1.0 in /usr/local/lib/python3.7/dist-packages (from konlpy) (4.2.6)\n",
            "Requirement already satisfied: numpy>=1.6 in /usr/local/lib/python3.7/dist-packages (from konlpy) (1.21.5)\n",
            "Collecting JPype1>=0.7.0\n",
            "  Downloading JPype1-1.3.0-cp37-cp37m-manylinux_2_5_x86_64.manylinux1_x86_64.whl (448 kB)\n",
            "\u001b[K     |████████████████████████████████| 448 kB 47.9 MB/s \n",
            "\u001b[?25hRequirement already satisfied: typing-extensions in /usr/local/lib/python3.7/dist-packages (from JPype1>=0.7.0->konlpy) (3.10.0.2)\n",
            "Installing collected packages: JPype1, konlpy\n",
            "Successfully installed JPype1-1.3.0 konlpy-0.6.0\n"
          ]
        }
      ],
      "source": [
        "%pip install konlpy"
      ]
    },
    {
      "cell_type": "code",
      "source": [
        "from konlpy.tag import Okt\n",
        "from typing import Dict\n",
        "\n",
        "okt = Okt()\n",
        "\n",
        "def build_bag_of_words(document):\n",
        "  document = document.replace('.', '')\n",
        "  tokenized_document = okt.morphs(document)\n",
        "\n",
        "  word_to_index: Dict[str, int] = {}\n",
        "  bow: list[int] = []\n",
        "\n",
        "  for word in tokenized_document:\n",
        "    if word not in word_to_index.keys():\n",
        "      word_to_index[word] = len(word_to_index)\n",
        "      bow.insert(len(word_to_index) - 1, 1)\n",
        "    else:\n",
        "      index: int = word_to_index.get(word)\n",
        "      bow[index] = bow[index] + 1\n",
        "\n",
        "  return word_to_index, bow\n"
      ],
      "metadata": {
        "id": "1RULR9yR0SCy"
      },
      "execution_count": 2,
      "outputs": []
    },
    {
      "cell_type": "code",
      "source": [
        "doc1 = \"정부가 발표하는 물가상승률과 소비자가 느끼는 물가상승률은 다르다.\"\n",
        "\n",
        "build_bag_of_words(doc1)"
      ],
      "metadata": {
        "colab": {
          "base_uri": "https://localhost:8080/"
        },
        "id": "qI4eSlUB4eCr",
        "outputId": "fed372a6-9b78-4b30-9cc9-7cf2d175a837"
      },
      "execution_count": 4,
      "outputs": [
        {
          "output_type": "execute_result",
          "data": {
            "text/plain": [
              "({'가': 1,\n",
              "  '과': 5,\n",
              "  '느끼는': 7,\n",
              "  '다르다': 9,\n",
              "  '물가상승률': 4,\n",
              "  '발표': 2,\n",
              "  '소비자': 6,\n",
              "  '은': 8,\n",
              "  '정부': 0,\n",
              "  '하는': 3},\n",
              " [1, 2, 1, 1, 2, 1, 1, 1, 1, 1])"
            ]
          },
          "metadata": {},
          "execution_count": 4
        }
      ]
    },
    {
      "cell_type": "code",
      "source": [
        "doc2 = '소비자는 주로 소비하는 상품을 기준으로 물가상승률을 느낀다.'\n",
        "\n",
        "build_bag_of_words(doc2)"
      ],
      "metadata": {
        "colab": {
          "base_uri": "https://localhost:8080/"
        },
        "id": "8oeX5ht14kcp",
        "outputId": "11b51bd2-f4fc-4d13-e0a9-73d0c0c1e64a"
      },
      "execution_count": 5,
      "outputs": [
        {
          "output_type": "execute_result",
          "data": {
            "text/plain": [
              "({'기준': 7,\n",
              "  '느낀다': 10,\n",
              "  '는': 1,\n",
              "  '물가상승률': 9,\n",
              "  '상품': 5,\n",
              "  '소비': 3,\n",
              "  '소비자': 0,\n",
              "  '으로': 8,\n",
              "  '을': 6,\n",
              "  '주로': 2,\n",
              "  '하는': 4},\n",
              " [1, 1, 1, 1, 1, 1, 2, 1, 1, 1, 1])"
            ]
          },
          "metadata": {},
          "execution_count": 5
        }
      ]
    },
    {
      "cell_type": "code",
      "source": [
        "doc3 = doc1 + ' ' + doc2\n",
        "\n",
        "build_bag_of_words(doc3)"
      ],
      "metadata": {
        "colab": {
          "base_uri": "https://localhost:8080/"
        },
        "id": "tswNr8xm4tNx",
        "outputId": "40da0875-e063-4e7a-b954-4707c047dd2d"
      },
      "execution_count": 6,
      "outputs": [
        {
          "output_type": "execute_result",
          "data": {
            "text/plain": [
              "({'가': 1,\n",
              "  '과': 5,\n",
              "  '기준': 15,\n",
              "  '느끼는': 7,\n",
              "  '느낀다': 17,\n",
              "  '는': 10,\n",
              "  '다르다': 9,\n",
              "  '물가상승률': 4,\n",
              "  '발표': 2,\n",
              "  '상품': 13,\n",
              "  '소비': 12,\n",
              "  '소비자': 6,\n",
              "  '으로': 16,\n",
              "  '은': 8,\n",
              "  '을': 14,\n",
              "  '정부': 0,\n",
              "  '주로': 11,\n",
              "  '하는': 3},\n",
              " [1, 2, 1, 2, 3, 1, 2, 1, 1, 1, 1, 1, 1, 1, 2, 1, 1, 1])"
            ]
          },
          "metadata": {},
          "execution_count": 6
        }
      ]
    },
    {
      "cell_type": "code",
      "source": [
        "from sklearn.feature_extraction.text import CountVectorizer\n",
        "\n",
        "corpus = ['you know I want your love. because I love you.']\n",
        "vector = CountVectorizer()\n",
        "\n",
        "vector.fit_transform(corpus).toarray(), vector.vocabulary_"
      ],
      "metadata": {
        "colab": {
          "base_uri": "https://localhost:8080/"
        },
        "id": "S4sQPJzp4xxw",
        "outputId": "1fdcab36-5bcb-4c88-8d5d-616ac272a0b4"
      },
      "execution_count": 10,
      "outputs": [
        {
          "output_type": "execute_result",
          "data": {
            "text/plain": [
              "(array([[1, 1, 2, 1, 2, 1]]),\n",
              " {'because': 0, 'know': 1, 'love': 2, 'want': 3, 'you': 4, 'your': 5})"
            ]
          },
          "metadata": {},
          "execution_count": 10
        }
      ]
    },
    {
      "cell_type": "code",
      "source": [
        "from nltk.corpus import stopwords\n",
        "\n",
        "text = [\"Family is not an important thing. It's everything.\"]\n",
        "vect = CountVectorizer(stop_words=[\"the\", \"a\", \"an\", \"is\", \"not\"])\n",
        "\n",
        "vect.fit_transform(text).toarray(), vect.vocabulary_"
      ],
      "metadata": {
        "colab": {
          "base_uri": "https://localhost:8080/"
        },
        "id": "-jGB0USM5DQV",
        "outputId": "cb28d65c-eacf-4532-c849-f0f9981852a8"
      },
      "execution_count": 12,
      "outputs": [
        {
          "output_type": "execute_result",
          "data": {
            "text/plain": [
              "(array([[1, 1, 1, 1, 1]]),\n",
              " {'everything': 0, 'family': 1, 'important': 2, 'it': 3, 'thing': 4})"
            ]
          },
          "metadata": {},
          "execution_count": 12
        }
      ]
    },
    {
      "cell_type": "code",
      "source": [
        "text = [\"Family is not an important thing. It's everything.\"]\n",
        "vect = CountVectorizer(stop_words=\"english\")\n",
        "\n",
        "vect.fit_transform(text).toarray(), vect.vocabulary_"
      ],
      "metadata": {
        "colab": {
          "base_uri": "https://localhost:8080/"
        },
        "id": "DNZ9sHDh5wnd",
        "outputId": "bf00809b-f219-48af-e8a7-fc11b0eb2689"
      },
      "execution_count": 13,
      "outputs": [
        {
          "output_type": "execute_result",
          "data": {
            "text/plain": [
              "(array([[1, 1, 1]]), {'family': 0, 'important': 1, 'thing': 2})"
            ]
          },
          "metadata": {},
          "execution_count": 13
        }
      ]
    },
    {
      "cell_type": "code",
      "source": [
        "text = [\"Family is not an important thing. It's everything.\"]\n",
        "\n",
        "import nltk\n",
        "nltk.download('stopwords')\n",
        "stop_words = stopwords.words(\"english\")\n",
        "vect = CountVectorizer(stop_words=stop_words)\n",
        "\n",
        "vect.fit_transform(text).toarray(), vect.vocabulary_"
      ],
      "metadata": {
        "colab": {
          "base_uri": "https://localhost:8080/"
        },
        "id": "g6ACQSEw59Hb",
        "outputId": "ff0f9f17-840d-4261-a28e-b4974da33401"
      },
      "execution_count": 17,
      "outputs": [
        {
          "output_type": "stream",
          "name": "stdout",
          "text": [
            "[nltk_data] Downloading package stopwords to /root/nltk_data...\n",
            "[nltk_data]   Package stopwords is already up-to-date!\n"
          ]
        },
        {
          "output_type": "execute_result",
          "data": {
            "text/plain": [
              "(array([[1, 1, 1, 1]]),\n",
              " {'everything': 0, 'family': 1, 'important': 2, 'thing': 3})"
            ]
          },
          "metadata": {},
          "execution_count": 17
        }
      ]
    }
  ]
}