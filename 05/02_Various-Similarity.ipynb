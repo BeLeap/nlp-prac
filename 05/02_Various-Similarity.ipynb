{
  "nbformat": 4,
  "nbformat_minor": 0,
  "metadata": {
    "colab": {
      "name": "05/02_Various-Similarity",
      "provenance": [],
      "authorship_tag": "ABX9TyN82DEzq+6p7QBetaI3twZV",
      "include_colab_link": true
    },
    "kernelspec": {
      "name": "python3",
      "display_name": "Python 3"
    },
    "language_info": {
      "name": "python"
    }
  },
  "cells": [
    {
      "cell_type": "markdown",
      "metadata": {
        "id": "view-in-github",
        "colab_type": "text"
      },
      "source": [
        "<a href=\"https://colab.research.google.com/github/BeLeap/tensorflow-nlp-tutorial/blob/main/05/02_Various-Similarity.ipynb\" target=\"_parent\"><img src=\"https://colab.research.google.com/assets/colab-badge.svg\" alt=\"Open In Colab\"/></a>"
      ]
    },
    {
      "cell_type": "markdown",
      "source": [
        "Jaccard similarity"
      ],
      "metadata": {
        "id": "IPevgVeYkH1y"
      }
    },
    {
      "cell_type": "code",
      "source": [
        "doc1 = \"apple banana everyone like likey watch card holder\"\n",
        "doc2 = \"apple banana coupon passport love you\"\n",
        "\n",
        "tokenized_doc1 = doc1.split()\n",
        "tokenized_doc2 = doc2.split()\n",
        "\n",
        "tokenized_doc1, tokenized_doc2"
      ],
      "metadata": {
        "colab": {
          "base_uri": "https://localhost:8080/"
        },
        "id": "xR7aN329kJ4y",
        "outputId": "37bdc3d4-6524-428a-e13c-30274d3fa3f5"
      },
      "execution_count": 1,
      "outputs": [
        {
          "output_type": "execute_result",
          "data": {
            "text/plain": [
              "(['apple', 'banana', 'everyone', 'like', 'likey', 'watch', 'card', 'holder'],\n",
              " ['apple', 'banana', 'coupon', 'passport', 'love', 'you'])"
            ]
          },
          "metadata": {},
          "execution_count": 1
        }
      ]
    },
    {
      "cell_type": "code",
      "source": [
        "union = set(tokenized_doc1).union(set(tokenized_doc2))\n",
        "union"
      ],
      "metadata": {
        "colab": {
          "base_uri": "https://localhost:8080/"
        },
        "id": "JNM8YHFDkQzw",
        "outputId": "aa1f7b64-bd61-4d48-ab64-9da86f891ac3"
      },
      "execution_count": 3,
      "outputs": [
        {
          "output_type": "execute_result",
          "data": {
            "text/plain": [
              "{'apple',\n",
              " 'banana',\n",
              " 'card',\n",
              " 'coupon',\n",
              " 'everyone',\n",
              " 'holder',\n",
              " 'like',\n",
              " 'likey',\n",
              " 'love',\n",
              " 'passport',\n",
              " 'watch',\n",
              " 'you'}"
            ]
          },
          "metadata": {},
          "execution_count": 3
        }
      ]
    },
    {
      "cell_type": "code",
      "source": [
        "intersection = set(tokenized_doc1).intersection(set(tokenized_doc2))\n",
        "intersection"
      ],
      "metadata": {
        "colab": {
          "base_uri": "https://localhost:8080/"
        },
        "id": "DcmGl_IVkV7m",
        "outputId": "2e583e3d-624e-4b73-a3d2-3a804186721a"
      },
      "execution_count": 5,
      "outputs": [
        {
          "output_type": "execute_result",
          "data": {
            "text/plain": [
              "{'apple', 'banana'}"
            ]
          },
          "metadata": {},
          "execution_count": 5
        }
      ]
    },
    {
      "cell_type": "code",
      "source": [
        "len(intersection)/len(union)"
      ],
      "metadata": {
        "colab": {
          "base_uri": "https://localhost:8080/"
        },
        "id": "y4y0CwFPkbTu",
        "outputId": "8dc0a1db-fbab-49e5-cea9-adaacc47897b"
      },
      "execution_count": 6,
      "outputs": [
        {
          "output_type": "execute_result",
          "data": {
            "text/plain": [
              "0.16666666666666666"
            ]
          },
          "metadata": {},
          "execution_count": 6
        }
      ]
    }
  ]
}